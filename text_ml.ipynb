{
 "cells": [
  {
   "cell_type": "markdown",
   "metadata": {},
   "source": [
    "Проект для «Викишоп» c BERT."
   ]
  },
  {
   "cell_type": "markdown",
   "metadata": {},
   "source": [
    "Интернет-магазин «Викишоп» запускает новый сервис. Теперь пользователи могут редактировать и дополнять описания товаров, как в вики-сообществах. То есть клиенты предлагают свои правки и комментируют изменения других. Магазину нужен инструмент, который будет искать токсичные комментарии и отправлять их на модерацию. "
   ]
  },
  {
   "cell_type": "markdown",
   "metadata": {},
   "source": [
    "**В данной работе нам требуется:**\n",
    "\n",
    "1. Загрузите и подготовьте данные.\n",
    "2. Обучите разные модели.\n",
    "3. Сделайте выводы."
   ]
  },
  {
   "cell_type": "code",
   "execution_count": 1,
   "metadata": {},
   "outputs": [],
   "source": [
    "# !pip install optuna\n",
    "# !pip install optuna-integration\n",
    "# !pip install missingno\n",
    "\n",
    "# !pip install torch torchvision torchaudio --index-url https://download.pytorch.org/whl/cpu\n",
    "# !pip install torch torchvision torchaudio --index-url https://download.pytorch.org/whl/cu118\n",
    "# !pip install transformers\n",
    "# !pip install tqdm\n",
    "# !pip install --upgrade transformers datasets\n",
    "# !pip install sentencepiece\n",
    "# !pip install -U spacy\n",
    "# !pip install -U pip setuptools wheel\n",
    "# !python -m spacy download en_core_web_sm\n",
    "\n",
    "\n"
   ]
  },
  {
   "cell_type": "code",
   "execution_count": 2,
   "metadata": {},
   "outputs": [
    {
     "data": {
      "text/plain": [
       "True"
      ]
     },
     "execution_count": 2,
     "metadata": {},
     "output_type": "execute_result"
    }
   ],
   "source": [
    "import pandas as pd\n",
    "import os\n",
    "import matplotlib.pyplot as plt\n",
    "import seaborn as sns\n",
    "import numpy as np\n",
    "from scipy import stats as st\n",
    "\n",
    "from sklearn.linear_model import LinearRegression, Lasso, LogisticRegression\n",
    "from sklearn.svm import SVC\n",
    "from sklearn.neighbors import KNeighborsClassifier\n",
    "from sklearn.tree import DecisionTreeClassifier, DecisionTreeRegressor\n",
    "from sklearn.metrics import make_scorer, mean_squared_error, accuracy_score, f1_score\n",
    "from sklearn.model_selection import train_test_split, cross_val_score\n",
    "from sklearn.preprocessing import OneHotEncoder, OrdinalEncoder, StandardScaler, MinMaxScaler, RobustScaler, LabelEncoder\n",
    "from sklearn.feature_extraction.text import TfidfVectorizer\n",
    "from sklearn.model_selection import RandomizedSearchCV\n",
    "from sklearn.model_selection import GridSearchCV\n",
    "from sklearn.impute import SimpleImputer\n",
    "from sklearn.pipeline import Pipeline\n",
    "from sklearn.compose import ColumnTransformer\n",
    "\n",
    "import optuna\n",
    "from optuna.integration import OptunaSearchCV\n",
    "from optuna.visualization import plot_contour\n",
    "from catboost import CatBoostRegressor, CatBoostClassifier\n",
    "import missingno as msno\n",
    "\n",
    "import torch\n",
    "from torch.utils.data import DataLoader, Dataset, TensorDataset\n",
    "import transformers\n",
    "from transformers import BertTokenizer, BertModel, BertForSequenceClassification, DataCollatorWithPadding, DistilBertTokenizer, DistilBertModel, AutoModel, AutoTokenizer, AdamW\n",
    "\n",
    "from tqdm import tqdm\n",
    "from tqdm import notebook \n",
    "from datasets import Dataset as HFDataset\n",
    "\n",
    "import spacy\n",
    "torch.cuda.is_available()"
   ]
  },
  {
   "cell_type": "markdown",
   "metadata": {
    "vscode": {
     "languageId": "plaintext"
    }
   },
   "source": [
    "### Шаг 1. Загрузка данных"
   ]
  },
  {
   "cell_type": "code",
   "execution_count": 3,
   "metadata": {},
   "outputs": [],
   "source": [
    "try:\n",
    "    toxic_comments = pd.read_csv('datasets/toxic_comments.csv')\n",
    "except:   \n",
    "    toxic_comments = pd.read_csv('https://code.s3.yandex.net/datasets/toxic_comments.csv')\n"
   ]
  },
  {
   "cell_type": "code",
   "execution_count": 4,
   "metadata": {},
   "outputs": [
    {
     "data": {
      "text/html": [
       "<div>\n",
       "<style scoped>\n",
       "    .dataframe tbody tr th:only-of-type {\n",
       "        vertical-align: middle;\n",
       "    }\n",
       "\n",
       "    .dataframe tbody tr th {\n",
       "        vertical-align: top;\n",
       "    }\n",
       "\n",
       "    .dataframe thead th {\n",
       "        text-align: right;\n",
       "    }\n",
       "</style>\n",
       "<table border=\"1\" class=\"dataframe\">\n",
       "  <thead>\n",
       "    <tr style=\"text-align: right;\">\n",
       "      <th></th>\n",
       "      <th>Unnamed: 0</th>\n",
       "      <th>text</th>\n",
       "      <th>toxic</th>\n",
       "    </tr>\n",
       "  </thead>\n",
       "  <tbody>\n",
       "    <tr>\n",
       "      <th>0</th>\n",
       "      <td>140022</td>\n",
       "      <td>I cared enough to find all the reliable source...</td>\n",
       "      <td>0</td>\n",
       "    </tr>\n",
       "    <tr>\n",
       "      <th>1</th>\n",
       "      <td>7427</td>\n",
       "      <td>poster \\n\\nI have sent the e-mail. -Garrett</td>\n",
       "      <td>0</td>\n",
       "    </tr>\n",
       "    <tr>\n",
       "      <th>2</th>\n",
       "      <td>23010</td>\n",
       "      <td>\"\\nAs an internationalist who wants nothing mo...</td>\n",
       "      <td>0</td>\n",
       "    </tr>\n",
       "    <tr>\n",
       "      <th>3</th>\n",
       "      <td>13341</td>\n",
       "      <td>Why do you keep removing links from the BB 200...</td>\n",
       "      <td>0</td>\n",
       "    </tr>\n",
       "    <tr>\n",
       "      <th>4</th>\n",
       "      <td>132282</td>\n",
       "      <td>\"\\nI guess we can't accommodate for people's i...</td>\n",
       "      <td>0</td>\n",
       "    </tr>\n",
       "    <tr>\n",
       "      <th>5</th>\n",
       "      <td>9776</td>\n",
       "      <td>It wouldn't hurt to ask the copyedit guild to ...</td>\n",
       "      <td>0</td>\n",
       "    </tr>\n",
       "    <tr>\n",
       "      <th>6</th>\n",
       "      <td>66240</td>\n",
       "      <td>\"\\n\\nHeh, alright.  I was nearly in \"\"sweet fu...</td>\n",
       "      <td>1</td>\n",
       "    </tr>\n",
       "    <tr>\n",
       "      <th>7</th>\n",
       "      <td>107046</td>\n",
       "      <td>What is your version of IE? —— Eagle (ask me f...</td>\n",
       "      <td>0</td>\n",
       "    </tr>\n",
       "    <tr>\n",
       "      <th>8</th>\n",
       "      <td>57445</td>\n",
       "      <td>\"\\n\\n Okay, then let's turn it around: I don't...</td>\n",
       "      <td>0</td>\n",
       "    </tr>\n",
       "    <tr>\n",
       "      <th>9</th>\n",
       "      <td>100892</td>\n",
       "      <td>\"\\n\\n IP range blocks \\n\\nHi! How do IP range ...</td>\n",
       "      <td>0</td>\n",
       "    </tr>\n",
       "    <tr>\n",
       "      <th>10</th>\n",
       "      <td>110347</td>\n",
       "      <td>\"\\n\\n Your recent disruptive editing at \"\"Ward...</td>\n",
       "      <td>0</td>\n",
       "    </tr>\n",
       "    <tr>\n",
       "      <th>11</th>\n",
       "      <td>10843</td>\n",
       "      <td>Thanks. 81.100.44.233</td>\n",
       "      <td>0</td>\n",
       "    </tr>\n",
       "    <tr>\n",
       "      <th>12</th>\n",
       "      <td>147801</td>\n",
       "      <td>You are no fun. I give up. But the edits will ...</td>\n",
       "      <td>0</td>\n",
       "    </tr>\n",
       "    <tr>\n",
       "      <th>13</th>\n",
       "      <td>9798</td>\n",
       "      <td>\" \"\"Banned Group Leads Dissent in Egypt\"\" By D...</td>\n",
       "      <td>0</td>\n",
       "    </tr>\n",
       "    <tr>\n",
       "      <th>14</th>\n",
       "      <td>127211</td>\n",
       "      <td>\"\\n\\n Edgeworth's Father's Name \\n\\nI have a t...</td>\n",
       "      <td>0</td>\n",
       "    </tr>\n",
       "    <tr>\n",
       "      <th>15</th>\n",
       "      <td>7432</td>\n",
       "      <td>I can live with this.  I like reliably sourced...</td>\n",
       "      <td>0</td>\n",
       "    </tr>\n",
       "    <tr>\n",
       "      <th>16</th>\n",
       "      <td>93145</td>\n",
       "      <td>I just think it comes across as pushy.  No big.</td>\n",
       "      <td>0</td>\n",
       "    </tr>\n",
       "    <tr>\n",
       "      <th>17</th>\n",
       "      <td>141586</td>\n",
       "      <td>\"\\n\\nMy civility\\nYou sir have not had said IF...</td>\n",
       "      <td>0</td>\n",
       "    </tr>\n",
       "    <tr>\n",
       "      <th>18</th>\n",
       "      <td>129951</td>\n",
       "      <td>\"\\n A barnstar for you! \\n  The Barnstar of Di...</td>\n",
       "      <td>0</td>\n",
       "    </tr>\n",
       "    <tr>\n",
       "      <th>19</th>\n",
       "      <td>23802</td>\n",
       "      <td>Grunge and punk are not one and the same. They...</td>\n",
       "      <td>0</td>\n",
       "    </tr>\n",
       "  </tbody>\n",
       "</table>\n",
       "</div>"
      ],
      "text/plain": [
       "    Unnamed: 0                                               text  toxic\n",
       "0       140022  I cared enough to find all the reliable source...      0\n",
       "1         7427        poster \\n\\nI have sent the e-mail. -Garrett      0\n",
       "2        23010  \"\\nAs an internationalist who wants nothing mo...      0\n",
       "3        13341  Why do you keep removing links from the BB 200...      0\n",
       "4       132282  \"\\nI guess we can't accommodate for people's i...      0\n",
       "5         9776  It wouldn't hurt to ask the copyedit guild to ...      0\n",
       "6        66240  \"\\n\\nHeh, alright.  I was nearly in \"\"sweet fu...      1\n",
       "7       107046  What is your version of IE? —— Eagle (ask me f...      0\n",
       "8        57445  \"\\n\\n Okay, then let's turn it around: I don't...      0\n",
       "9       100892  \"\\n\\n IP range blocks \\n\\nHi! How do IP range ...      0\n",
       "10      110347  \"\\n\\n Your recent disruptive editing at \"\"Ward...      0\n",
       "11       10843                              Thanks. 81.100.44.233      0\n",
       "12      147801  You are no fun. I give up. But the edits will ...      0\n",
       "13        9798  \" \"\"Banned Group Leads Dissent in Egypt\"\" By D...      0\n",
       "14      127211  \"\\n\\n Edgeworth's Father's Name \\n\\nI have a t...      0\n",
       "15        7432  I can live with this.  I like reliably sourced...      0\n",
       "16       93145    I just think it comes across as pushy.  No big.      0\n",
       "17      141586  \"\\n\\nMy civility\\nYou sir have not had said IF...      0\n",
       "18      129951  \"\\n A barnstar for you! \\n  The Barnstar of Di...      0\n",
       "19       23802  Grunge and punk are not one and the same. They...      0"
      ]
     },
     "execution_count": 4,
     "metadata": {},
     "output_type": "execute_result"
    }
   ],
   "source": [
    "toxic_comments = toxic_comments.sample(1000).reset_index(drop=True)\n",
    "toxic_comments.head(20)"
   ]
  },
  {
   "cell_type": "code",
   "execution_count": 5,
   "metadata": {},
   "outputs": [
    {
     "name": "stdout",
     "output_type": "stream",
     "text": [
      "<class 'pandas.core.frame.DataFrame'>\n",
      "RangeIndex: 1000 entries, 0 to 999\n",
      "Data columns (total 3 columns):\n",
      " #   Column      Non-Null Count  Dtype \n",
      "---  ------      --------------  ----- \n",
      " 0   Unnamed: 0  1000 non-null   int64 \n",
      " 1   text        1000 non-null   object\n",
      " 2   toxic       1000 non-null   int64 \n",
      "dtypes: int64(2), object(1)\n",
      "memory usage: 23.6+ KB\n"
     ]
    }
   ],
   "source": [
    "toxic_comments.info()"
   ]
  },
  {
   "cell_type": "markdown",
   "metadata": {},
   "source": [
    "**Вывод: Данные соответсвуют описанию и готовы к предобработке.**"
   ]
  },
  {
   "cell_type": "markdown",
   "metadata": {},
   "source": [
    "### Шаг 2. Изучение данных"
   ]
  },
  {
   "cell_type": "markdown",
   "metadata": {},
   "source": [
    "Проверка на дубликаты:"
   ]
  },
  {
   "cell_type": "code",
   "execution_count": 6,
   "metadata": {
    "vscode": {
     "languageId": "javascript"
    }
   },
   "outputs": [
    {
     "data": {
      "text/plain": [
       "0"
      ]
     },
     "execution_count": 6,
     "metadata": {},
     "output_type": "execute_result"
    }
   ],
   "source": [
    "toxic_comments.duplicated().sum()"
   ]
  },
  {
   "cell_type": "markdown",
   "metadata": {},
   "source": [
    "Проверка на пропуски:"
   ]
  },
  {
   "cell_type": "code",
   "execution_count": 7,
   "metadata": {
    "vscode": {
     "languageId": "javascript"
    }
   },
   "outputs": [
    {
     "data": {
      "image/png": "[encoded data removed]",
      "text/plain": [
       "<Figure size 2500x1000 with 3 Axes>"
      ]
     },
     "metadata": {},
     "output_type": "display_data"
    }
   ],
   "source": [
    "msno.bar(toxic_comments);"
   ]
  },
  {
   "cell_type": "code",
   "execution_count": 8,
   "metadata": {
    "vscode": {
     "languageId": "javascript"
    }
   },
   "outputs": [
    {
     "data": {
      "image/png": "[encoded data removed]",
      "text/plain": [
       "<Figure size 640x480 with 1 Axes>"
      ]
     },
     "metadata": {},
     "output_type": "display_data"
    }
   ],
   "source": [
    "class_counts = toxic_comments['toxic'].value_counts()\n",
    "\n",
    "class_counts.plot(kind='bar')\n",
    "plt.title('Распределение классов')\n",
    "plt.xlabel('Класс')\n",
    "plt.ylabel('Число образцов')\n",
    "plt.show()"
   ]
  },
  {
   "cell_type": "code",
   "execution_count": 9,
   "metadata": {},
   "outputs": [
    {
     "name": "stdout",
     "output_type": "stream",
     "text": [
      "Размер использования памяти: до  0.02 Mb - после  0.01 Mb (45.6%)\n"
     ]
    },
    {
     "data": {
      "text/html": [
       "<div>\n",
       "<style scoped>\n",
       "    .dataframe tbody tr th:only-of-type {\n",
       "        vertical-align: middle;\n",
       "    }\n",
       "\n",
       "    .dataframe tbody tr th {\n",
       "        vertical-align: top;\n",
       "    }\n",
       "\n",
       "    .dataframe thead th {\n",
       "        text-align: right;\n",
       "    }\n",
       "</style>\n",
       "<table border=\"1\" class=\"dataframe\">\n",
       "  <thead>\n",
       "    <tr style=\"text-align: right;\">\n",
       "      <th></th>\n",
       "      <th>Unnamed: 0</th>\n",
       "      <th>text</th>\n",
       "      <th>toxic</th>\n",
       "    </tr>\n",
       "  </thead>\n",
       "  <tbody>\n",
       "    <tr>\n",
       "      <th>0</th>\n",
       "      <td>140022</td>\n",
       "      <td>I cared enough to find all the reliable source...</td>\n",
       "      <td>0</td>\n",
       "    </tr>\n",
       "    <tr>\n",
       "      <th>1</th>\n",
       "      <td>7427</td>\n",
       "      <td>poster \\n\\nI have sent the e-mail. -Garrett</td>\n",
       "      <td>0</td>\n",
       "    </tr>\n",
       "    <tr>\n",
       "      <th>2</th>\n",
       "      <td>23010</td>\n",
       "      <td>\"\\nAs an internationalist who wants nothing mo...</td>\n",
       "      <td>0</td>\n",
       "    </tr>\n",
       "    <tr>\n",
       "      <th>3</th>\n",
       "      <td>13341</td>\n",
       "      <td>Why do you keep removing links from the BB 200...</td>\n",
       "      <td>0</td>\n",
       "    </tr>\n",
       "    <tr>\n",
       "      <th>4</th>\n",
       "      <td>132282</td>\n",
       "      <td>\"\\nI guess we can't accommodate for people's i...</td>\n",
       "      <td>0</td>\n",
       "    </tr>\n",
       "    <tr>\n",
       "      <th>...</th>\n",
       "      <td>...</td>\n",
       "      <td>...</td>\n",
       "      <td>...</td>\n",
       "    </tr>\n",
       "    <tr>\n",
       "      <th>995</th>\n",
       "      <td>37814</td>\n",
       "      <td>The account remains blocked, 72 hours later. E...</td>\n",
       "      <td>0</td>\n",
       "    </tr>\n",
       "    <tr>\n",
       "      <th>996</th>\n",
       "      <td>127702</td>\n",
       "      <td>\"\\n\\n I deleted a poorly constructed sentence....</td>\n",
       "      <td>0</td>\n",
       "    </tr>\n",
       "    <tr>\n",
       "      <th>997</th>\n",
       "      <td>25719</td>\n",
       "      <td>PINAPPLES DO NOT WEAR BATHROBES. THEY WEAR BRA...</td>\n",
       "      <td>1</td>\n",
       "    </tr>\n",
       "    <tr>\n",
       "      <th>998</th>\n",
       "      <td>39372</td>\n",
       "      <td>\"\\n\\n AfD notification \\n\\nHello. I nominated ...</td>\n",
       "      <td>0</td>\n",
       "    </tr>\n",
       "    <tr>\n",
       "      <th>999</th>\n",
       "      <td>2506</td>\n",
       "      <td>\"\\n \"\"for which he was imprisoned\"\" (Para 5) -...</td>\n",
       "      <td>0</td>\n",
       "    </tr>\n",
       "  </tbody>\n",
       "</table>\n",
       "<p>1000 rows × 3 columns</p>\n",
       "</div>"
      ],
      "text/plain": [
       "     Unnamed: 0                                               text  toxic\n",
       "0        140022  I cared enough to find all the reliable source...      0\n",
       "1          7427        poster \\n\\nI have sent the e-mail. -Garrett      0\n",
       "2         23010  \"\\nAs an internationalist who wants nothing mo...      0\n",
       "3         13341  Why do you keep removing links from the BB 200...      0\n",
       "4        132282  \"\\nI guess we can't accommodate for people's i...      0\n",
       "..          ...                                                ...    ...\n",
       "995       37814  The account remains blocked, 72 hours later. E...      0\n",
       "996      127702  \"\\n\\n I deleted a poorly constructed sentence....      0\n",
       "997       25719  PINAPPLES DO NOT WEAR BATHROBES. THEY WEAR BRA...      1\n",
       "998       39372  \"\\n\\n AfD notification \\n\\nHello. I nominated ...      0\n",
       "999        2506  \"\\n \"\"for which he was imprisoned\"\" (Para 5) -...      0\n",
       "\n",
       "[1000 rows x 3 columns]"
      ]
     },
     "execution_count": 9,
     "metadata": {},
     "output_type": "execute_result"
    }
   ],
   "source": [
    "# Оптимизация числовых типов данных\n",
    "def optimize_memory_usage(df: pd.DataFrame, print_size: bool=True) -> pd.DataFrame:\n",
    "        numerics = ['int16', 'int32', 'int64', 'float16', 'float32', 'float64'] # Типы, которые будем проверять на оптимизацию\n",
    "        # Размер занимаемой памяти до оптимизации (в Мб)\n",
    "        before_size = df.memory_usage().sum() / 1024**2    \n",
    "        for column in df.columns:\n",
    "            column_type = df[column].dtypes\n",
    "            if column_type in numerics:\n",
    "                column_min = df[column].min()\n",
    "                column_max = df[column].max()\n",
    "                if str(column_type).startswith('int'):\n",
    "                    if column_min > np.iinfo(np.int8).min and column_max < np.iinfo(np.int8).max:\n",
    "                        df[column] = df[column].astype(np.int8)\n",
    "                    elif column_min > np.iinfo(np.int16).min and column_max < np.iinfo(np.int16).max:\n",
    "                        df[column] = df[column].astype(np.int16)\n",
    "                    elif column_min > np.iinfo(np.int32).min and column_max < np.iinfo(np.int32).max:\n",
    "                        df[column] = df[column].astype(np.int32)\n",
    "                    elif column_min > np.iinfo(np.int64).min and column_max < np.iinfo(np.int64).max:\n",
    "                        df[column] = df[column].astype(np.int64)  \n",
    "                else:\n",
    "                    if column_min > np.finfo(np.float32).min and column_max < np.finfo(np.float32).max:\n",
    "                        df[column] = df[column].astype(np.float32)\n",
    "                    else:\n",
    "                        df[column] = df[column].astype(np.float64)    \n",
    "        # Размер занимаемой памяти после оптимизации (в Мб)\n",
    "        after_size = df.memory_usage().sum() / 1024**2\n",
    "        if print_size: print('Размер использования памяти: до {:5.2f} Mb - после {:5.2f} Mb ({:.1f}%)'\n",
    "                             .format(before_size, after_size, 100 * (before_size - after_size) / before_size))\n",
    "        return df\n",
    "optimize_memory_usage(toxic_comments, print_size=True)"
   ]
  },
  {
   "cell_type": "markdown",
   "metadata": {},
   "source": [
    "**Вывод: В данных отсутствуют пропуски и дубликаты.**"
   ]
  },
  {
   "cell_type": "markdown",
   "metadata": {},
   "source": [
    "### Шаг 3. Обучение моделей."
   ]
  },
  {
   "cell_type": "code",
   "execution_count": 10,
   "metadata": {},
   "outputs": [
    {
     "name": "stderr",
     "output_type": "stream",
     "text": [
      "100%|██████████| 1000/1000 [00:11<00:00, 84.22it/s]\n"
     ]
    },
    {
     "data": {
      "text/plain": [
       "0     I care enough to find all the reliable source ...\n",
       "1       poster \\n\\n I have send the e - mail . -Garrett\n",
       "2     \" \\n as an internationalist who want nothing m...\n",
       "3     why do you keep remove link from the BB 2006 ?...\n",
       "4     \" \\n I guess we can not accommodate for people...\n",
       "5     it would not hurt to ask the copyedit guild to...\n",
       "6     \" \\n\\n Heh , alright .   I be nearly in \" \" sw...\n",
       "7     what be your version of IE ? — — Eagle ( ask I...\n",
       "8     \" \\n\\n  okay , then let us turn it around : I ...\n",
       "9     \" \\n\\n  IP range block \\n\\n hi ! how do IP ran...\n",
       "10    \" \\n\\n  your recent disruptive editing at \" \" ...\n",
       "11                                thank . 81.100.44.233\n",
       "12    you be no fun . I give up . but the edit will ...\n",
       "13    \" \" \" Banned Group lead Dissent in Egypt \" \" b...\n",
       "14    \" \\n\\n  Edgeworth 's Father 's Name \\n\\n I hav...\n",
       "15    I can live with this .   I like reliably sourc...\n",
       "16    I just think it come across as pushy .   no big .\n",
       "17    \" \\n\\n my civility \\n you sir have not have sa...\n",
       "18    \" \\n  a barnstar for you ! \\n   the Barnstar o...\n",
       "19    Grunge and punk be not one and the same . they...\n",
       "Name: lemmatized_text, dtype: object"
      ]
     },
     "execution_count": 10,
     "metadata": {},
     "output_type": "execute_result"
    }
   ],
   "source": [
    "nlp = spacy.load('en_core_web_sm')\n",
    "\n",
    "def lemmatize_text(text):\n",
    "    doc = nlp(text)\n",
    "    return \" \".join([token.lemma_ for token in doc])\n",
    "\n",
    "tqdm.pandas()\n",
    "toxic_comments['lemmatized_text'] = toxic_comments['text'].progress_apply(lemmatize_text)\n",
    "toxic_comments['lemmatized_text'].head(20)"
   ]
  },
  {
   "cell_type": "code",
   "execution_count": 11,
   "metadata": {},
   "outputs": [],
   "source": [
    "ord_categories = ['lemmatized_text']\n",
    "RANDOM_STATE = 42\n",
    "TEST_SIZE = .2\n",
    "X_train, X_test, y_train, y_test = train_test_split(toxic_comments['lemmatized_text'], toxic_comments['toxic'], test_size=TEST_SIZE, random_state=RANDOM_STATE)\n",
    "\n",
    "vectorizer = TfidfVectorizer(max_features=10000)\n",
    "X_train_tfidf = vectorizer.fit_transform(X_train)\n",
    "X_test_tfidf = vectorizer.transform(X_test)"
   ]
  },
  {
   "cell_type": "markdown",
   "metadata": {},
   "source": [
    "Модель LogisticRegression:"
   ]
  },
  {
   "cell_type": "code",
   "execution_count": 12,
   "metadata": {},
   "outputs": [
    {
     "name": "stderr",
     "output_type": "stream",
     "text": [
      "C:\\Users\\vanya\\AppData\\Local\\Temp\\ipykernel_23796\\3635780408.py:11: ExperimentalWarning: OptunaSearchCV is experimental (supported from v0.17.0). The interface can change in the future.\n",
      "  optuna_search_lg = OptunaSearchCV(\n",
      "[I 2024-08-02 10:16:29,268] A new study created in memory with name: no-name-d1103a25-ed54-49ca-bdd3-d0d1304bc848\n",
      "[I 2024-08-02 10:16:29,338] Trial 4 finished with value: 0.39766081871345027 and parameters: {'model__C': 4, 'model__solver': 'liblinear', 'model__penalty': 'l1'}. Best is trial 4 with value: 0.39766081871345027.\n",
      "c:\\Users\\vanya\\anaconda3\\envs\\practicum\\lib\\site-packages\\sklearn\\linear_model\\_sag.py:350: ConvergenceWarning: The max_iter was reached which means the coef_ did not converge\n",
      "  warnings.warn(\n",
      "c:\\Users\\vanya\\anaconda3\\envs\\practicum\\lib\\site-packages\\sklearn\\linear_model\\_sag.py:350: ConvergenceWarning: The max_iter was reached which means the coef_ did not converge\n",
      "  warnings.warn(\n",
      "c:\\Users\\vanya\\anaconda3\\envs\\practicum\\lib\\site-packages\\sklearn\\linear_model\\_sag.py:350: ConvergenceWarning: The max_iter was reached which means the coef_ did not converge\n",
      "  warnings.warn(\n",
      "c:\\Users\\vanya\\anaconda3\\envs\\practicum\\lib\\site-packages\\sklearn\\linear_model\\_sag.py:350: ConvergenceWarning: The max_iter was reached which means the coef_ did not converge\n",
      "  warnings.warn(\n",
      "c:\\Users\\vanya\\anaconda3\\envs\\practicum\\lib\\site-packages\\sklearn\\linear_model\\_sag.py:350: ConvergenceWarning: The max_iter was reached which means the coef_ did not converge\n",
      "  warnings.warn(\n",
      "c:\\Users\\vanya\\anaconda3\\envs\\practicum\\lib\\site-packages\\sklearn\\linear_model\\_sag.py:350: ConvergenceWarning: The max_iter was reached which means the coef_ did not converge\n",
      "  warnings.warn(\n",
      "c:\\Users\\vanya\\anaconda3\\envs\\practicum\\lib\\site-packages\\sklearn\\linear_model\\_sag.py:350: ConvergenceWarning: The max_iter was reached which means the coef_ did not converge\n",
      "  warnings.warn(\n",
      "c:\\Users\\vanya\\anaconda3\\envs\\practicum\\lib\\site-packages\\sklearn\\linear_model\\_sag.py:350: ConvergenceWarning: The max_iter was reached which means the coef_ did not converge\n",
      "  warnings.warn(\n",
      "c:\\Users\\vanya\\anaconda3\\envs\\practicum\\lib\\site-packages\\sklearn\\linear_model\\_sag.py:350: ConvergenceWarning: The max_iter was reached which means the coef_ did not converge\n",
      "  warnings.warn(\n",
      "c:\\Users\\vanya\\anaconda3\\envs\\practicum\\lib\\site-packages\\sklearn\\linear_model\\_sag.py:350: ConvergenceWarning: The max_iter was reached which means the coef_ did not converge\n",
      "  warnings.warn(\n",
      "c:\\Users\\vanya\\anaconda3\\envs\\practicum\\lib\\site-packages\\sklearn\\linear_model\\_sag.py:350: ConvergenceWarning: The max_iter was reached which means the coef_ did not converge\n",
      "  warnings.warn(\n",
      "c:\\Users\\vanya\\anaconda3\\envs\\practicum\\lib\\site-packages\\sklearn\\linear_model\\_sag.py:350: ConvergenceWarning: The max_iter was reached which means the coef_ did not converge\n",
      "  warnings.warn(\n",
      "[I 2024-08-02 10:16:29,508] Trial 0 finished with value: 0.22979876160990714 and parameters: {'model__C': 12, 'model__solver': 'saga', 'model__penalty': 'l2'}. Best is trial 4 with value: 0.39766081871345027.\n",
      "c:\\Users\\vanya\\anaconda3\\envs\\practicum\\lib\\site-packages\\sklearn\\linear_model\\_sag.py:350: ConvergenceWarning: The max_iter was reached which means the coef_ did not converge\n",
      "  warnings.warn(\n",
      "[I 2024-08-02 10:16:29,526] Trial 3 finished with value: 0.1503921568627451 and parameters: {'model__C': 7, 'model__solver': 'saga', 'model__penalty': 'l2'}. Best is trial 4 with value: 0.39766081871345027.\n",
      "c:\\Users\\vanya\\anaconda3\\envs\\practicum\\lib\\site-packages\\sklearn\\linear_model\\_sag.py:350: ConvergenceWarning: The max_iter was reached which means the coef_ did not converge\n",
      "  warnings.warn(\n",
      "c:\\Users\\vanya\\anaconda3\\envs\\practicum\\lib\\site-packages\\sklearn\\linear_model\\_sag.py:350: ConvergenceWarning: The max_iter was reached which means the coef_ did not converge\n",
      "  warnings.warn(\n",
      "c:\\Users\\vanya\\anaconda3\\envs\\practicum\\lib\\site-packages\\sklearn\\linear_model\\_sag.py:350: ConvergenceWarning: The max_iter was reached which means the coef_ did not converge\n",
      "  warnings.warn(\n",
      "c:\\Users\\vanya\\anaconda3\\envs\\practicum\\lib\\site-packages\\sklearn\\linear_model\\_sag.py:350: ConvergenceWarning: The max_iter was reached which means the coef_ did not converge\n",
      "  warnings.warn(\n",
      "c:\\Users\\vanya\\anaconda3\\envs\\practicum\\lib\\site-packages\\sklearn\\linear_model\\_sag.py:350: ConvergenceWarning: The max_iter was reached which means the coef_ did not converge\n",
      "  warnings.warn(\n",
      "[I 2024-08-02 10:16:29,772] Trial 1 finished with value: 0.43157894736842106 and parameters: {'model__C': 13, 'model__solver': 'saga', 'model__penalty': 'l1'}. Best is trial 1 with value: 0.43157894736842106.\n",
      "c:\\Users\\vanya\\anaconda3\\envs\\practicum\\lib\\site-packages\\sklearn\\linear_model\\_sag.py:350: ConvergenceWarning: The max_iter was reached which means the coef_ did not converge\n",
      "  warnings.warn(\n",
      "[I 2024-08-02 10:16:29,787] Trial 2 finished with value: 0.43578947368421056 and parameters: {'model__C': 15, 'model__solver': 'saga', 'model__penalty': 'l1'}. Best is trial 2 with value: 0.43578947368421056.\n"
     ]
    },
    {
     "name": "stdout",
     "output_type": "stream",
     "text": [
      "Лучшая модель и её параметры:\n",
      "\n",
      " Pipeline(steps=[('model',\n",
      "                 LogisticRegression(C=15, penalty='l1', random_state=42,\n",
      "                                    solver='saga'))])\n",
      "Метрика лучшей модели на тренировочной выборке: 0.43578947368421056\n"
     ]
    },
    {
     "name": "stderr",
     "output_type": "stream",
     "text": [
      "c:\\Users\\vanya\\anaconda3\\envs\\practicum\\lib\\site-packages\\sklearn\\linear_model\\_sag.py:350: ConvergenceWarning: The max_iter was reached which means the coef_ did not converge\n",
      "  warnings.warn(\n"
     ]
    }
   ],
   "source": [
    "pipe_final = Pipeline([\n",
    "    ('model', LogisticRegression(random_state=RANDOM_STATE, max_iter=100))\n",
    "])\n",
    "\n",
    "param_distributions = {\n",
    "    'model__C': optuna.distributions.IntDistribution(1, 15),\n",
    "    'model__solver': optuna.distributions.CategoricalDistribution(['liblinear', 'lbfgs', 'sag', 'saga']),\n",
    "    'model__penalty': optuna.distributions.CategoricalDistribution(['l1', 'l2'])\n",
    "}\n",
    "\n",
    "optuna_search_lg = OptunaSearchCV(\n",
    "    pipe_final,\n",
    "    param_distributions,\n",
    "    scoring='f1',\n",
    "    n_trials=5,\n",
    "    n_jobs=-1\n",
    ")\n",
    "\n",
    "optuna_search_lg.fit(X_train_tfidf, y_train)\n",
    "\n",
    "print('Лучшая модель и её параметры:\\n\\n', optuna_search_lg.best_estimator_)\n",
    "print ('Метрика лучшей модели на тренировочной выборке:', optuna_search_lg.best_score_)"
   ]
  },
  {
   "cell_type": "markdown",
   "metadata": {},
   "source": [
    "Модель DecisionTreeClassifier"
   ]
  },
  {
   "cell_type": "code",
   "execution_count": 13,
   "metadata": {
    "vscode": {
     "languageId": "javascript"
    }
   },
   "outputs": [
    {
     "name": "stderr",
     "output_type": "stream",
     "text": [
      "C:\\Users\\vanya\\AppData\\Local\\Temp\\ipykernel_23796\\1469577869.py:12: ExperimentalWarning: OptunaSearchCV is experimental (supported from v0.17.0). The interface can change in the future.\n",
      "  optuna_search_tree = OptunaSearchCV(\n",
      "[I 2024-08-02 10:16:29,932] A new study created in memory with name: no-name-eb3729f8-151d-4b2c-8f6a-3e838a8253ec\n",
      "c:\\Users\\vanya\\anaconda3\\envs\\practicum\\lib\\site-packages\\optuna_integration\\sklearn.py:377: RuntimeWarning: Mean of empty slice\n",
      "  trial.set_user_attr(\"mean_{}\".format(name), np.nanmean(array))\n",
      "c:\\Users\\vanya\\anaconda3\\envs\\practicum\\lib\\site-packages\\optuna_integration\\sklearn.py:377: RuntimeWarning: Mean of empty slice\n",
      "  trial.set_user_attr(\"mean_{}\".format(name), np.nanmean(array))\n",
      "c:\\Users\\vanya\\anaconda3\\envs\\practicum\\lib\\site-packages\\optuna_integration\\sklearn.py:377: RuntimeWarning: Mean of empty slice\n",
      "  trial.set_user_attr(\"mean_{}\".format(name), np.nanmean(array))\n",
      "c:\\Users\\vanya\\anaconda3\\envs\\practicum\\lib\\site-packages\\optuna_integration\\sklearn.py:377: RuntimeWarning: Mean of empty slice\n",
      "  trial.set_user_attr(\"mean_{}\".format(name), np.nanmean(array))\n",
      "[W 2024-08-02 10:16:30,050] Trial 4 failed with parameters: {'model__max_depth': 9, 'model__min_samples_split': 0.07191911208222863, 'model__min_samples_leaf': 0.48039400735389376, 'model__max_features': 'auto'} because of the following error: The value nan is not acceptable.\n",
      "[W 2024-08-02 10:16:30,053] Trial 4 failed with value nan.\n",
      "c:\\Users\\vanya\\anaconda3\\envs\\practicum\\lib\\site-packages\\numpy\\lib\\nanfunctions.py:1872: RuntimeWarning: Degrees of freedom <= 0 for slice.\n",
      "  var = nanvar(a, axis=axis, dtype=dtype, out=out, ddof=ddof,\n",
      "c:\\Users\\vanya\\anaconda3\\envs\\practicum\\lib\\site-packages\\optuna_integration\\sklearn.py:377: RuntimeWarning: Mean of empty slice\n",
      "  trial.set_user_attr(\"mean_{}\".format(name), np.nanmean(array))\n",
      "c:\\Users\\vanya\\anaconda3\\envs\\practicum\\lib\\site-packages\\numpy\\lib\\nanfunctions.py:1872: RuntimeWarning: Degrees of freedom <= 0 for slice.\n",
      "  var = nanvar(a, axis=axis, dtype=dtype, out=out, ddof=ddof,\n",
      "[W 2024-08-02 10:16:30,060] Trial 1 failed with parameters: {'model__max_depth': 6, 'model__min_samples_split': 0.3807541199955084, 'model__min_samples_leaf': 0.3838582040394393, 'model__max_features': 'auto'} because of the following error: The value nan is not acceptable.\n",
      "[W 2024-08-02 10:16:30,062] Trial 1 failed with value nan.\n",
      "c:\\Users\\vanya\\anaconda3\\envs\\practicum\\lib\\site-packages\\numpy\\lib\\nanfunctions.py:1872: RuntimeWarning: Degrees of freedom <= 0 for slice.\n",
      "  var = nanvar(a, axis=axis, dtype=dtype, out=out, ddof=ddof,\n",
      "c:\\Users\\vanya\\anaconda3\\envs\\practicum\\lib\\site-packages\\optuna_integration\\sklearn.py:377: RuntimeWarning: Mean of empty slice\n",
      "  trial.set_user_attr(\"mean_{}\".format(name), np.nanmean(array))\n",
      "c:\\Users\\vanya\\anaconda3\\envs\\practicum\\lib\\site-packages\\numpy\\lib\\nanfunctions.py:1872: RuntimeWarning: Degrees of freedom <= 0 for slice.\n",
      "  var = nanvar(a, axis=axis, dtype=dtype, out=out, ddof=ddof,\n",
      "[W 2024-08-02 10:16:30,063] Trial 6 failed with parameters: {'model__max_depth': 18, 'model__min_samples_split': 0.2616822921532512, 'model__min_samples_leaf': 0.05319215644088942, 'model__max_features': 'auto'} because of the following error: The value nan is not acceptable.\n",
      "[W 2024-08-02 10:16:30,069] Trial 6 failed with value nan.\n",
      "[I 2024-08-02 10:16:30,129] Trial 3 finished with value: 0.13333333333333333 and parameters: {'model__max_depth': 18, 'model__min_samples_split': 0.400221189270023, 'model__min_samples_leaf': 0.4629163846022239, 'model__max_features': 'sqrt'}. Best is trial 3 with value: 0.13333333333333333.\n",
      "[I 2024-08-02 10:16:30,135] Trial 2 finished with value: 0.12873563218390804 and parameters: {'model__max_depth': 6, 'model__min_samples_split': 0.057795482736724635, 'model__min_samples_leaf': 0.3456497554852872, 'model__max_features': 'log2'}. Best is trial 3 with value: 0.13333333333333333.\n",
      "[I 2024-08-02 10:16:30,139] Trial 0 finished with value: 0.17216828478964402 and parameters: {'model__max_depth': 12, 'model__min_samples_split': 0.31269952964955416, 'model__min_samples_leaf': 0.38307640387123876, 'model__max_features': 'sqrt'}. Best is trial 0 with value: 0.17216828478964402.\n",
      "[I 2024-08-02 10:16:30,142] Trial 5 finished with value: 0.12873563218390804 and parameters: {'model__max_depth': 8, 'model__min_samples_split': 0.04986829354241603, 'model__min_samples_leaf': 0.31916568906075854, 'model__max_features': 'log2'}. Best is trial 0 with value: 0.17216828478964402.\n",
      "[I 2024-08-02 10:16:30,148] Trial 7 finished with value: 0.12873563218390804 and parameters: {'model__max_depth': 11, 'model__min_samples_split': 0.2624585539636611, 'model__min_samples_leaf': 0.48065106721840545, 'model__max_features': 'sqrt'}. Best is trial 0 with value: 0.17216828478964402.\n"
     ]
    },
    {
     "name": "stdout",
     "output_type": "stream",
     "text": [
      "Лучшая модель и её параметры:\n",
      "\n",
      " Pipeline(steps=[('model',\n",
      "                 DecisionTreeClassifier(class_weight='balanced', max_depth=12,\n",
      "                                        max_features='sqrt',\n",
      "                                        min_samples_leaf=0.38307640387123876,\n",
      "                                        min_samples_split=0.31269952964955416,\n",
      "                                        random_state=42))])\n",
      "Метрика лучшей модели на тренировочной выборке: 0.17216828478964402\n"
     ]
    }
   ],
   "source": [
    "\n",
    "pipe_final = Pipeline([\n",
    "    ('model', DecisionTreeClassifier(random_state=RANDOM_STATE, class_weight='balanced'))\n",
    "])\n",
    "\n",
    "param_distributions = {\n",
    "    'model__max_depth': optuna.distributions.IntDistribution(3, 20),\n",
    "    'model__min_samples_split': optuna.distributions.FloatDistribution(0.01, 0.5),\n",
    "    'model__min_samples_leaf': optuna.distributions.FloatDistribution(0.01, 0.5),\n",
    "    'model__max_features': optuna.distributions.CategoricalDistribution(['auto', 'sqrt', 'log2'])\n",
    "}\n",
    "\n",
    "optuna_search_tree = OptunaSearchCV(\n",
    "    pipe_final,\n",
    "    param_distributions,\n",
    "    scoring='f1',\n",
    "    n_trials=8,\n",
    "    n_jobs=-1,\n",
    "    random_state=RANDOM_STATE\n",
    ")\n",
    "\n",
    "optuna_search_tree.fit(X_train_tfidf, y_train)\n",
    "\n",
    "print('Лучшая модель и её параметры:\\n\\n', optuna_search_tree.best_estimator_)\n",
    "print('Метрика лучшей модели на тренировочной выборке:', optuna_search_tree.best_score_)"
   ]
  },
  {
   "cell_type": "markdown",
   "metadata": {},
   "source": [
    "Модель BERT:"
   ]
  },
  {
   "cell_type": "code",
   "execution_count": 14,
   "metadata": {},
   "outputs": [
    {
     "name": "stdout",
     "output_type": "stream",
     "text": [
      "Using device: cuda\n"
     ]
    }
   ],
   "source": [
    "device = torch.device('cuda') if torch.cuda.is_available() else torch.device('cpu')\n",
    "print(f'Using device: {device}')"
   ]
  },
  {
   "cell_type": "code",
   "execution_count": 15,
   "metadata": {},
   "outputs": [],
   "source": [
    "# model_path = './bert-base-uncased'\n",
    "# tokenizer_path = './bert-base-uncased'\n",
    "\n",
    "# if os.path.exists(model_path) and os.path.exists(tokenizer_path):\n",
    "#     model = BertModel.from_pretrained(model_path)\n",
    "#     tokenizer = BertTokenizer.from_pretrained(tokenizer_path)\n",
    "# else:\n",
    "#     tokenizer = BertTokenizer.from_pretrained('bert-base-uncased')\n",
    "#     model = BertModel.from_pretrained('bert-base-uncased')\n",
    "#     model.save_pretrained(model_path)\n",
    "#     tokenizer.save_pretrained(tokenizer_path)\n",
    "\n",
    "# model_path = './distilbert-base-uncased'\n",
    "# tokenizer_path = './distilbert-base-uncased'\n",
    "\n",
    "# if os.path.exists(model_path) and os.path.exists(tokenizer_path):\n",
    "#     model = DistilBertModel.from_pretrained(model_path)\n",
    "#     tokenizer = DistilBertTokenizer.from_pretrained(tokenizer_path)\n",
    "# else:\n",
    "#     tokenizer = DistilBertTokenizer.from_pretrained('distilbert-base-uncased')\n",
    "#     model = DistilBertModel.from_pretrained('distilbert-base-uncased')\n",
    "#     model.save_pretrained(model_path)\n",
    "#     tokenizer.save_pretrained(tokenizer_path)\n",
    "\n",
    "# model_path = './albert-base-v2'\n",
    "# tokenizer_path = './albert-base-v2'\n",
    "\n",
    "# if os.path.exists(model_path) and os.path.exists(tokenizer_path):\n",
    "#     # Загрузка модели и токенизатора из локального хранилища\n",
    "#     model = AlbertModel.from_pretrained(model_path)\n",
    "#     tokenizer = AlbertTokenizer.from_pretrained(tokenizer_path)\n",
    "# else:\n",
    "#     # Загрузка модели и токенизатора из интернета и сохранение локально\n",
    "#     model = AlbertModel.from_pretrained('albert-base-v2')\n",
    "#     tokenizer = AlbertTokenizer.from_pretrained('albert-base-v2')\n",
    "#     model.save_pretrained(model_path)\n",
    "#     tokenizer.save_pretrained(tokenizer_path)\n",
    "\n",
    "model_name = 'unitary/toxic-bert'\n",
    "\n",
    "model_path = './toxic-bert'\n",
    "tokenizer_path = './toxic-bert'\n",
    "\n",
    "if os.path.exists(model_path) and os.path.exists(tokenizer_path):\n",
    "    model = AutoModel.from_pretrained(model_path)\n",
    "    tokenizer = AutoTokenizer.from_pretrained(tokenizer_path)\n",
    "else:\n",
    "    tokenizer = AutoTokenizer.from_pretrained(model_name)\n",
    "    model = AutoModel.from_pretrained(model_name)\n",
    "    model.save_pretrained(model_path)\n",
    "    tokenizer.save_pretrained(tokenizer_path)"
   ]
  },
  {
   "cell_type": "code",
   "execution_count": 16,
   "metadata": {},
   "outputs": [
    {
     "data": {
      "application/vnd.jupyter.widget-view+json": {
       "model_id": "921ae926081d4a56ab31d6d15a99c49e",
       "version_major": 2,
       "version_minor": 0
      },
      "text/plain": [
       "Map:   0%|          | 0/1000 [00:00<?, ? examples/s]"
      ]
     },
     "metadata": {},
     "output_type": "display_data"
    },
    {
     "name": "stdout",
     "output_type": "stream",
     "text": [
      "Dataset({\n",
      "    features: ['Unnamed: 0', 'toxic', 'input_ids', 'token_type_ids', 'attention_mask'],\n",
      "    num_rows: 1000\n",
      "})\n"
     ]
    }
   ],
   "source": [
    "model = model.to(device)\n",
    "dataset = HFDataset.from_pandas(toxic_comments)\n",
    "\n",
    "def tokenize_function(examples):\n",
    "    return tokenizer(examples['lemmatized_text'], padding='max_length', truncation=True, max_length=512)\n",
    "\n",
    "tokenized_datasets = dataset.map(tokenize_function, batched=True, remove_columns=['lemmatized_text', 'text'])\n",
    "print(tokenized_datasets)\n",
    "# tokenized = toxic_comments['text'].apply(lambda x: tokenizer.encode(x, add_special_tokens=True, max_length=512, truncation=True))"
   ]
  },
  {
   "cell_type": "code",
   "execution_count": 17,
   "metadata": {},
   "outputs": [
    {
     "name": "stdout",
     "output_type": "stream",
     "text": [
      "{'Unnamed: 0': tensor([ 74826, 128115,  79538, 140030,  70899,   1559, 116232,   7326, 149836,\n",
      "         27885,  63888,  25719,  71449,  54220,  85011, 155337,  94624,  96335,\n",
      "        124926, 143740,  74934,  55037,  12054, 153682, 125580,  20064, 153031,\n",
      "         56580, 106223,  10957,  69017,   9776]), 'toxic': tensor([0, 0, 0, 0, 0, 0, 0, 0, 0, 0, 0, 1, 0, 0, 0, 0, 0, 0, 0, 0, 0, 0, 1, 0,\n",
      "        1, 0, 0, 0, 0, 0, 0, 0]), 'input_ids': tensor([[  101,  1010,  2321,  ...,     0,     0,     0],\n",
      "        [  101,  1000,  2006,  ...,     0,     0,     0],\n",
      "        [  101,  1000, 11209,  ...,     0,     0,     0],\n",
      "        ...,\n",
      "        [  101, 29038,  2131,  ...,     0,     0,     0],\n",
      "        [  101,  1000,  2393,  ...,     0,     0,     0],\n",
      "        [  101,  2009,  2052,  ...,     0,     0,     0]]), 'token_type_ids': tensor([[0, 0, 0,  ..., 0, 0, 0],\n",
      "        [0, 0, 0,  ..., 0, 0, 0],\n",
      "        [0, 0, 0,  ..., 0, 0, 0],\n",
      "        ...,\n",
      "        [0, 0, 0,  ..., 0, 0, 0],\n",
      "        [0, 0, 0,  ..., 0, 0, 0],\n",
      "        [0, 0, 0,  ..., 0, 0, 0]]), 'attention_mask': tensor([[1, 1, 1,  ..., 0, 0, 0],\n",
      "        [1, 1, 1,  ..., 0, 0, 0],\n",
      "        [1, 1, 1,  ..., 0, 0, 0],\n",
      "        ...,\n",
      "        [1, 1, 1,  ..., 0, 0, 0],\n",
      "        [1, 1, 1,  ..., 0, 0, 0],\n",
      "        [1, 1, 1,  ..., 0, 0, 0]])}\n"
     ]
    }
   ],
   "source": [
    "data_collator = DataCollatorWithPadding(tokenizer)\n",
    "dataloader = DataLoader(tokenized_datasets, batch_size=32, collate_fn=data_collator, shuffle=True)\n",
    "print(next(iter(dataloader)))"
   ]
  },
  {
   "cell_type": "code",
   "execution_count": 18,
   "metadata": {},
   "outputs": [
    {
     "data": {
      "application/vnd.jupyter.widget-view+json": {
       "model_id": "5302ebb1496744faa665f8c2893b6874",
       "version_major": 2,
       "version_minor": 0
      },
      "text/plain": [
       "  0%|          | 0/32 [00:00<?, ?it/s]"
      ]
     },
     "metadata": {},
     "output_type": "display_data"
    },
    {
     "name": "stderr",
     "output_type": "stream",
     "text": [
      "c:\\Users\\vanya\\anaconda3\\envs\\practicum\\lib\\site-packages\\transformers\\models\\bert\\modeling_bert.py:435: UserWarning: 1Torch was not compiled with flash attention. (Triggered internally at C:\\actions-runner\\_work\\pytorch\\pytorch\\builder\\windows\\pytorch\\aten\\src\\ATen\\native\\transformers\\cuda\\sdp_utils.cpp:455.)\n",
      "  attn_output = torch.nn.functional.scaled_dot_product_attention(\n"
     ]
    }
   ],
   "source": [
    "embeddings = []\n",
    "scaler = torch.cuda.amp.GradScaler(enabled=device.type == 'cuda')\n",
    "\n",
    "with torch.no_grad():\n",
    "    for batch in notebook.tqdm(dataloader):\n",
    "        input_ids = batch['input_ids'].to(device)\n",
    "        attention_mask = batch['attention_mask'].to(device)\n",
    "\n",
    "        with torch.cuda.amp.autocast(enabled=device.type == 'cuda'):\n",
    "            outputs = model(input_ids, attention_mask=attention_mask)\n",
    "        batch_embeddings = outputs.last_hidden_state[:, 0, :].cpu().numpy()\n",
    "        \n",
    "        embeddings.append(batch_embeddings)"
   ]
  },
  {
   "cell_type": "code",
   "execution_count": 19,
   "metadata": {},
   "outputs": [],
   "source": [
    "# max_len = 512\n",
    "# padded = np.array([i + [0]*(max_len - len(i)) for i in tokenized.values])\n",
    "# attention_mask = np.where(padded != 0, 1, 0)\n",
    "\n",
    "# batch_size = 32\n",
    "\n",
    "\n",
    "\n",
    "# for i in notebook.tqdm(range(padded.shape[0] // batch_size)):\n",
    "#     batch = torch.LongTensor(padded[batch_size*i:batch_size*(i+1)]).to(device)\n",
    "#     attention_mask_batch = torch.LongTensor(attention_mask[batch_size*i:batch_size*(i+1)]).to(device)\n",
    "    \n",
    "#     with torch.no_grad():\n",
    "#         batch_embeddings = model(batch, attention_mask=attention_mask_batch)\n",
    "    \n",
    "#     embeddings.append(batch_embeddings[0][:,0,:].cpu().numpy())"
   ]
  },
  {
   "cell_type": "code",
   "execution_count": 20,
   "metadata": {},
   "outputs": [
    {
     "name": "stdout",
     "output_type": "stream",
     "text": [
      "Средняя F1-метрика на кросс-валидации: 0.1050999592003264\n"
     ]
    }
   ],
   "source": [
    "features = np.concatenate(embeddings)\n",
    "labels = np.array(toxic_comments['toxic'])\n",
    "# toxic_comments = toxic_comments.sample(159200).reset_index(drop=True)\n",
    "\n",
    "X_train2, X_test2, y_train2, y_test2 = train_test_split(features, labels, test_size=TEST_SIZE, random_state=RANDOM_STATE)\n",
    "\n",
    "lg = LogisticRegression(max_iter=10000, class_weight='balanced')\n",
    "lg.fit(X_train2, y_train2)\n",
    "\n",
    "cv_scores = cross_val_score(lg, X_train2, y_train2, cv=5, scoring='f1')\n",
    "\n",
    "print(f'Средняя F1-метрика на кросс-валидации: {cv_scores.mean()}')\n"
   ]
  },
  {
   "cell_type": "markdown",
   "metadata": {},
   "source": [
    "Тестирование лучшей модели:"
   ]
  },
  {
   "cell_type": "code",
   "execution_count": 21,
   "metadata": {},
   "outputs": [
    {
     "name": "stdout",
     "output_type": "stream",
     "text": [
      "Mетрика F1 на тестовой выборке: 0.5789473684210527\n"
     ]
    }
   ],
   "source": [
    "# Оценка на тестовой выборке\n",
    "y_pred_test = optuna_search_lg.predict(X_test_tfidf)\n",
    "test_f1 = f1_score(y_test, y_pred_test)\n",
    "\n",
    "print(f'Mетрика F1 на тестовой выборке: {test_f1}')"
   ]
  },
  {
   "cell_type": "markdown",
   "metadata": {},
   "source": [
    "### Шаг 4. Общий вывод"
   ]
  },
  {
   "cell_type": "markdown",
   "metadata": {},
   "source": [
    "**Вывод**\n",
    "\n",
    "1. **Задача данного проекта была в определении токсичных комментариев**\n",
    "\n",
    "2. **В ходе предобработки данных не потребовалось ничего изменять, данные были в порядкеТак же была применена функция оптимизации числовых данных. В ходе всех обработок, объем датасета стал 1.97 мб(изначально было 3.65 мб)**\n",
    "\n",
    "3. **Логистическая регрессия показала значение метрики f1 = 78.**\n",
    "\n",
    "4. "
   ]
  }
 ],
 "metadata": {
  "kernelspec": {
   "display_name": "practicum",
   "language": "python",
   "name": "python3"
  },
  "language_info": {
   "codemirror_mode": {
    "name": "ipython",
    "version": 3
   },
   "file_extension": ".py",
   "mimetype": "text/x-python",
   "name": "python",
   "nbconvert_exporter": "python",
   "pygments_lexer": "ipython3",
   "version": "3.9.19"
  },
  "toc": {
   "base_numbering": 1,
   "nav_menu": {},
   "number_sections": true,
   "sideBar": true,
   "skip_h1_title": true,
   "title_cell": "Table of Contents",
   "title_sidebar": "Contents",
   "toc_cell": false,
   "toc_position": {
    "height": "calc(100% - 180px)",
    "left": "10px",
    "top": "150px",
    "width": "212.391px"
   },
   "toc_section_display": true,
   "toc_window_display": true
  }
 },
 "nbformat": 4,
 "nbformat_minor": 2
}
