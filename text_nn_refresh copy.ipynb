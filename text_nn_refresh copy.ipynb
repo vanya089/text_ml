{
 "cells": [
  {
   "cell_type": "markdown",
   "metadata": {},
   "source": [
    "Проект для «Викишоп» c BERT."
   ]
  },
  {
   "cell_type": "markdown",
   "metadata": {},
   "source": [
    "Интернет-магазин «Викишоп» запускает новый сервис. Теперь пользователи могут редактировать и дополнять описания товаров, как в вики-сообществах. То есть клиенты предлагают свои правки и комментируют изменения других. Магазину нужен инструмент, который будет искать токсичные комментарии и отправлять их на модерацию. "
   ]
  },
  {
   "cell_type": "markdown",
   "metadata": {},
   "source": [
    "**В данной работе нам требуется:**\n",
    "\n",
    "1. Загрузите и подготовьте данные.\n",
    "2. Обучите разные модели.\n",
    "3. Сделайте выводы."
   ]
  },
  {
   "cell_type": "code",
   "execution_count": 1,
   "metadata": {},
   "outputs": [],
   "source": [
    "# !pip install optuna\n",
    "# !pip install optuna-integration\n",
    "# !pip install missingno\n",
    "\n",
    "# !pip install torch torchvision torchaudio --index-url https://download.pytorch.org/whl/cpu\n",
    "# !pip install torch torchvision torchaudio --index-url https://download.pytorch.org/whl/cu118\n",
    "# !pip install transformers\n",
    "# !pip install tqdm\n",
    "# !pip install --upgrade transformers datasets\n",
    "# !pip install sentencepiece\n",
    "# !pip install -U spacy\n",
    "# !pip install -U pip setuptools wheel\n",
    "# !python -m spacy download en_core_web_sm\n",
    "\n",
    "# !pip uninstall transformers -y\n",
    "# !pip install transformers[torch]\n",
    "\n",
    "\n"
   ]
  },
  {
   "cell_type": "code",
   "execution_count": 2,
   "metadata": {},
   "outputs": [
    {
     "data": {
      "text/plain": [
       "True"
      ]
     },
     "execution_count": 2,
     "metadata": {},
     "output_type": "execute_result"
    }
   ],
   "source": [
    "import pandas as pd\n",
    "import os\n",
    "import matplotlib.pyplot as plt\n",
    "import seaborn as sns\n",
    "import numpy as np\n",
    "from scipy import stats as st\n",
    "\n",
    "from sklearn.linear_model import LinearRegression, Lasso, LogisticRegression\n",
    "from sklearn.svm import SVC\n",
    "from sklearn.neighbors import KNeighborsClassifier\n",
    "from sklearn.tree import DecisionTreeClassifier, DecisionTreeRegressor\n",
    "from sklearn.metrics import make_scorer, mean_squared_error, accuracy_score, f1_score\n",
    "from sklearn.model_selection import train_test_split, cross_val_score\n",
    "from sklearn.preprocessing import OneHotEncoder, OrdinalEncoder, StandardScaler, MinMaxScaler, RobustScaler, LabelEncoder\n",
    "from sklearn.feature_extraction.text import TfidfVectorizer\n",
    "from sklearn.model_selection import RandomizedSearchCV\n",
    "from sklearn.model_selection import GridSearchCV\n",
    "from sklearn.impute import SimpleImputer\n",
    "from sklearn.pipeline import Pipeline\n",
    "from sklearn.compose import ColumnTransformer\n",
    "\n",
    "import optuna\n",
    "from optuna.integration import OptunaSearchCV\n",
    "from optuna.visualization import plot_contour\n",
    "from catboost import CatBoostRegressor, CatBoostClassifier\n",
    "import missingno as msno\n",
    "\n",
    "import torch\n",
    "from torch.utils.data import DataLoader, Dataset, TensorDataset\n",
    "import transformers\n",
    "from transformers import BertTokenizer, BertModel, BertForSequenceClassification, DataCollatorWithPadding, DistilBertTokenizer, DistilBertModel, AutoModel, AutoTokenizer, AdamW, Trainer, TrainingArguments\n",
    "\n",
    "from tqdm import tqdm\n",
    "from tqdm import notebook \n",
    "from datasets import Dataset\n",
    "\n",
    "import spacy\n",
    "torch.cuda.is_available()"
   ]
  },
  {
   "cell_type": "markdown",
   "metadata": {
    "vscode": {
     "languageId": "plaintext"
    }
   },
   "source": [
    "### Шаг 1. Загрузка данных"
   ]
  },
  {
   "cell_type": "code",
   "execution_count": 3,
   "metadata": {},
   "outputs": [],
   "source": [
    "try:\n",
    "    toxic_comments = pd.read_csv('datasets/toxic_comments.csv')\n",
    "except:   \n",
    "    toxic_comments = pd.read_csv('https://code.s3.yandex.net/datasets/toxic_comments.csv')"
   ]
  },
  {
   "cell_type": "code",
   "execution_count": 4,
   "metadata": {},
   "outputs": [
    {
     "data": {
      "text/html": [
       "<div>\n",
       "<style scoped>\n",
       "    .dataframe tbody tr th:only-of-type {\n",
       "        vertical-align: middle;\n",
       "    }\n",
       "\n",
       "    .dataframe tbody tr th {\n",
       "        vertical-align: top;\n",
       "    }\n",
       "\n",
       "    .dataframe thead th {\n",
       "        text-align: right;\n",
       "    }\n",
       "</style>\n",
       "<table border=\"1\" class=\"dataframe\">\n",
       "  <thead>\n",
       "    <tr style=\"text-align: right;\">\n",
       "      <th></th>\n",
       "      <th>Unnamed: 0</th>\n",
       "      <th>text</th>\n",
       "      <th>toxic</th>\n",
       "    </tr>\n",
       "  </thead>\n",
       "  <tbody>\n",
       "    <tr>\n",
       "      <th>0</th>\n",
       "      <td>124732</td>\n",
       "      <td>And it turns out that webpage has a species ID...</td>\n",
       "      <td>0</td>\n",
       "    </tr>\n",
       "    <tr>\n",
       "      <th>1</th>\n",
       "      <td>13246</td>\n",
       "      <td>\"\\n\\nExcellent explanation, PhD Historian, tha...</td>\n",
       "      <td>0</td>\n",
       "    </tr>\n",
       "    <tr>\n",
       "      <th>2</th>\n",
       "      <td>133041</td>\n",
       "      <td>\"\\n\\n Olympic Sportsfans \\n\\nTotallympics\\n\\nH...</td>\n",
       "      <td>0</td>\n",
       "    </tr>\n",
       "    <tr>\n",
       "      <th>3</th>\n",
       "      <td>96492</td>\n",
       "      <td>\"\\nYes, well, that's what's been happening. It...</td>\n",
       "      <td>0</td>\n",
       "    </tr>\n",
       "    <tr>\n",
       "      <th>4</th>\n",
       "      <td>105619</td>\n",
       "      <td>Central America Group \\n\\nBlank Verse,\\nI hope...</td>\n",
       "      <td>0</td>\n",
       "    </tr>\n",
       "    <tr>\n",
       "      <th>5</th>\n",
       "      <td>69839</td>\n",
       "      <td>\"\\n\\n Restaurants \\n\\nThank you, truly, for pa...</td>\n",
       "      <td>0</td>\n",
       "    </tr>\n",
       "    <tr>\n",
       "      <th>6</th>\n",
       "      <td>25530</td>\n",
       "      <td>Chrisnoscrub047, please add your contribution ...</td>\n",
       "      <td>0</td>\n",
       "    </tr>\n",
       "    <tr>\n",
       "      <th>7</th>\n",
       "      <td>102006</td>\n",
       "      <td>\":SilkTork, I struck some comments on Fainites...</td>\n",
       "      <td>0</td>\n",
       "    </tr>\n",
       "    <tr>\n",
       "      <th>8</th>\n",
       "      <td>112573</td>\n",
       "      <td>This line has now been removed, I saw no probl...</td>\n",
       "      <td>0</td>\n",
       "    </tr>\n",
       "    <tr>\n",
       "      <th>9</th>\n",
       "      <td>123412</td>\n",
       "      <td>\"\\nA.F. – In case you missed out on the random...</td>\n",
       "      <td>0</td>\n",
       "    </tr>\n",
       "    <tr>\n",
       "      <th>10</th>\n",
       "      <td>65272</td>\n",
       "      <td>were made 2 months ago</td>\n",
       "      <td>0</td>\n",
       "    </tr>\n",
       "    <tr>\n",
       "      <th>11</th>\n",
       "      <td>3548</td>\n",
       "      <td>.\\nYes, fine. Done that</td>\n",
       "      <td>0</td>\n",
       "    </tr>\n",
       "    <tr>\n",
       "      <th>12</th>\n",
       "      <td>16257</td>\n",
       "      <td>Hi John. Fine with me! Best regards</td>\n",
       "      <td>0</td>\n",
       "    </tr>\n",
       "    <tr>\n",
       "      <th>13</th>\n",
       "      <td>64106</td>\n",
       "      <td>\"::::: The malingering \"\"issue\"\" is a total no...</td>\n",
       "      <td>0</td>\n",
       "    </tr>\n",
       "    <tr>\n",
       "      <th>14</th>\n",
       "      <td>148467</td>\n",
       "      <td>Taiwanese people \\n\\nHi, there's a dispute her...</td>\n",
       "      <td>0</td>\n",
       "    </tr>\n",
       "    <tr>\n",
       "      <th>15</th>\n",
       "      <td>14040</td>\n",
       "      <td>\"\\n\\n Bektashi \\nMay I learn what was \"\"racist...</td>\n",
       "      <td>0</td>\n",
       "    </tr>\n",
       "    <tr>\n",
       "      <th>16</th>\n",
       "      <td>108668</td>\n",
       "      <td>Unprotection\\nFrom what I remember, protection...</td>\n",
       "      <td>0</td>\n",
       "    </tr>\n",
       "    <tr>\n",
       "      <th>17</th>\n",
       "      <td>97833</td>\n",
       "      <td>Umm... I'm no geologist, but?  I'm sure someon...</td>\n",
       "      <td>0</td>\n",
       "    </tr>\n",
       "    <tr>\n",
       "      <th>18</th>\n",
       "      <td>127732</td>\n",
       "      <td>\":::I disagree with your fiction. Since I have...</td>\n",
       "      <td>0</td>\n",
       "    </tr>\n",
       "    <tr>\n",
       "      <th>19</th>\n",
       "      <td>97124</td>\n",
       "      <td>\"\\n\\n I just went to the article which states\\...</td>\n",
       "      <td>0</td>\n",
       "    </tr>\n",
       "  </tbody>\n",
       "</table>\n",
       "</div>"
      ],
      "text/plain": [
       "    Unnamed: 0                                               text  toxic\n",
       "0       124732  And it turns out that webpage has a species ID...      0\n",
       "1        13246  \"\\n\\nExcellent explanation, PhD Historian, tha...      0\n",
       "2       133041  \"\\n\\n Olympic Sportsfans \\n\\nTotallympics\\n\\nH...      0\n",
       "3        96492  \"\\nYes, well, that's what's been happening. It...      0\n",
       "4       105619  Central America Group \\n\\nBlank Verse,\\nI hope...      0\n",
       "5        69839  \"\\n\\n Restaurants \\n\\nThank you, truly, for pa...      0\n",
       "6        25530  Chrisnoscrub047, please add your contribution ...      0\n",
       "7       102006  \":SilkTork, I struck some comments on Fainites...      0\n",
       "8       112573  This line has now been removed, I saw no probl...      0\n",
       "9       123412  \"\\nA.F. – In case you missed out on the random...      0\n",
       "10       65272                             were made 2 months ago      0\n",
       "11        3548                            .\\nYes, fine. Done that      0\n",
       "12       16257                Hi John. Fine with me! Best regards      0\n",
       "13       64106  \"::::: The malingering \"\"issue\"\" is a total no...      0\n",
       "14      148467  Taiwanese people \\n\\nHi, there's a dispute her...      0\n",
       "15       14040  \"\\n\\n Bektashi \\nMay I learn what was \"\"racist...      0\n",
       "16      108668  Unprotection\\nFrom what I remember, protection...      0\n",
       "17       97833  Umm... I'm no geologist, but?  I'm sure someon...      0\n",
       "18      127732  \":::I disagree with your fiction. Since I have...      0\n",
       "19       97124  \"\\n\\n I just went to the article which states\\...      0"
      ]
     },
     "execution_count": 4,
     "metadata": {},
     "output_type": "execute_result"
    }
   ],
   "source": [
    "toxic_comments = toxic_comments.sample(10000).reset_index(drop=True)\n",
    "toxic_comments.head(20)"
   ]
  },
  {
   "cell_type": "code",
   "execution_count": 5,
   "metadata": {},
   "outputs": [
    {
     "name": "stdout",
     "output_type": "stream",
     "text": [
      "<class 'pandas.core.frame.DataFrame'>\n",
      "RangeIndex: 10000 entries, 0 to 9999\n",
      "Data columns (total 3 columns):\n",
      " #   Column      Non-Null Count  Dtype \n",
      "---  ------      --------------  ----- \n",
      " 0   Unnamed: 0  10000 non-null  int64 \n",
      " 1   text        10000 non-null  object\n",
      " 2   toxic       10000 non-null  int64 \n",
      "dtypes: int64(2), object(1)\n",
      "memory usage: 234.5+ KB\n"
     ]
    }
   ],
   "source": [
    "toxic_comments.info()"
   ]
  },
  {
   "cell_type": "markdown",
   "metadata": {},
   "source": [
    "**Вывод: Данные соответсвуют описанию и готовы к предобработке.**"
   ]
  },
  {
   "cell_type": "markdown",
   "metadata": {},
   "source": [
    "### Шаг 2. Изучение данных"
   ]
  },
  {
   "cell_type": "markdown",
   "metadata": {},
   "source": [
    "Проверка на дубликаты:"
   ]
  },
  {
   "cell_type": "code",
   "execution_count": 6,
   "metadata": {
    "vscode": {
     "languageId": "javascript"
    }
   },
   "outputs": [
    {
     "data": {
      "text/plain": [
       "0"
      ]
     },
     "execution_count": 6,
     "metadata": {},
     "output_type": "execute_result"
    }
   ],
   "source": [
    "toxic_comments.duplicated().sum()"
   ]
  },
  {
   "cell_type": "markdown",
   "metadata": {},
   "source": [
    "Проверка на пропуски:"
   ]
  },
  {
   "cell_type": "code",
   "execution_count": 7,
   "metadata": {
    "vscode": {
     "languageId": "javascript"
    }
   },
   "outputs": [
    {
     "data": {
      "image/png": "[encoded data removed]",
      "text/plain": [
       "<Figure size 2500x1000 with 3 Axes>"
      ]
     },
     "metadata": {},
     "output_type": "display_data"
    }
   ],
   "source": [
    "msno.bar(toxic_comments);"
   ]
  },
  {
   "cell_type": "code",
   "execution_count": 8,
   "metadata": {
    "vscode": {
     "languageId": "javascript"
    }
   },
   "outputs": [
    {
     "data": {
      "image/png": "[encoded data removed]",
      "text/plain": [
       "<Figure size 640x480 with 1 Axes>"
      ]
     },
     "metadata": {},
     "output_type": "display_data"
    }
   ],
   "source": [
    "class_counts = toxic_comments['toxic'].value_counts()\n",
    "\n",
    "class_counts.plot(kind='bar')\n",
    "plt.title('Распределение классов')\n",
    "plt.xlabel('Класс')\n",
    "plt.ylabel('Число образцов')\n",
    "plt.show()"
   ]
  },
  {
   "cell_type": "code",
   "execution_count": 9,
   "metadata": {},
   "outputs": [
    {
     "name": "stdout",
     "output_type": "stream",
     "text": [
      "Размер использования памяти: до  0.23 Mb - после  0.12 Mb (45.8%)\n"
     ]
    },
    {
     "data": {
      "text/html": [
       "<div>\n",
       "<style scoped>\n",
       "    .dataframe tbody tr th:only-of-type {\n",
       "        vertical-align: middle;\n",
       "    }\n",
       "\n",
       "    .dataframe tbody tr th {\n",
       "        vertical-align: top;\n",
       "    }\n",
       "\n",
       "    .dataframe thead th {\n",
       "        text-align: right;\n",
       "    }\n",
       "</style>\n",
       "<table border=\"1\" class=\"dataframe\">\n",
       "  <thead>\n",
       "    <tr style=\"text-align: right;\">\n",
       "      <th></th>\n",
       "      <th>Unnamed: 0</th>\n",
       "      <th>text</th>\n",
       "      <th>toxic</th>\n",
       "    </tr>\n",
       "  </thead>\n",
       "  <tbody>\n",
       "    <tr>\n",
       "      <th>0</th>\n",
       "      <td>124732</td>\n",
       "      <td>And it turns out that webpage has a species ID...</td>\n",
       "      <td>0</td>\n",
       "    </tr>\n",
       "    <tr>\n",
       "      <th>1</th>\n",
       "      <td>13246</td>\n",
       "      <td>\"\\n\\nExcellent explanation, PhD Historian, tha...</td>\n",
       "      <td>0</td>\n",
       "    </tr>\n",
       "    <tr>\n",
       "      <th>2</th>\n",
       "      <td>133041</td>\n",
       "      <td>\"\\n\\n Olympic Sportsfans \\n\\nTotallympics\\n\\nH...</td>\n",
       "      <td>0</td>\n",
       "    </tr>\n",
       "    <tr>\n",
       "      <th>3</th>\n",
       "      <td>96492</td>\n",
       "      <td>\"\\nYes, well, that's what's been happening. It...</td>\n",
       "      <td>0</td>\n",
       "    </tr>\n",
       "    <tr>\n",
       "      <th>4</th>\n",
       "      <td>105619</td>\n",
       "      <td>Central America Group \\n\\nBlank Verse,\\nI hope...</td>\n",
       "      <td>0</td>\n",
       "    </tr>\n",
       "    <tr>\n",
       "      <th>...</th>\n",
       "      <td>...</td>\n",
       "      <td>...</td>\n",
       "      <td>...</td>\n",
       "    </tr>\n",
       "    <tr>\n",
       "      <th>9995</th>\n",
       "      <td>143394</td>\n",
       "      <td>\"\\nYou just admitted it is a synthesis. That v...</td>\n",
       "      <td>0</td>\n",
       "    </tr>\n",
       "    <tr>\n",
       "      <th>9996</th>\n",
       "      <td>119273</td>\n",
       "      <td>Delete this farcical article \\nNew anti-Semiti...</td>\n",
       "      <td>0</td>\n",
       "    </tr>\n",
       "    <tr>\n",
       "      <th>9997</th>\n",
       "      <td>119616</td>\n",
       "      <td>Template:uw-delete1 &gt;</td>\n",
       "      <td>0</td>\n",
       "    </tr>\n",
       "    <tr>\n",
       "      <th>9998</th>\n",
       "      <td>109637</td>\n",
       "      <td>Well, justice is never being given. You have t...</td>\n",
       "      <td>0</td>\n",
       "    </tr>\n",
       "    <tr>\n",
       "      <th>9999</th>\n",
       "      <td>6146</td>\n",
       "      <td>May 2013 (UTC)\\nTks mate, appreciate that. My ...</td>\n",
       "      <td>0</td>\n",
       "    </tr>\n",
       "  </tbody>\n",
       "</table>\n",
       "<p>10000 rows × 3 columns</p>\n",
       "</div>"
      ],
      "text/plain": [
       "      Unnamed: 0                                               text  toxic\n",
       "0         124732  And it turns out that webpage has a species ID...      0\n",
       "1          13246  \"\\n\\nExcellent explanation, PhD Historian, tha...      0\n",
       "2         133041  \"\\n\\n Olympic Sportsfans \\n\\nTotallympics\\n\\nH...      0\n",
       "3          96492  \"\\nYes, well, that's what's been happening. It...      0\n",
       "4         105619  Central America Group \\n\\nBlank Verse,\\nI hope...      0\n",
       "...          ...                                                ...    ...\n",
       "9995      143394  \"\\nYou just admitted it is a synthesis. That v...      0\n",
       "9996      119273  Delete this farcical article \\nNew anti-Semiti...      0\n",
       "9997      119616                              Template:uw-delete1 >      0\n",
       "9998      109637  Well, justice is never being given. You have t...      0\n",
       "9999        6146  May 2013 (UTC)\\nTks mate, appreciate that. My ...      0\n",
       "\n",
       "[10000 rows x 3 columns]"
      ]
     },
     "execution_count": 9,
     "metadata": {},
     "output_type": "execute_result"
    }
   ],
   "source": [
    "# Оптимизация числовых типов данных\n",
    "def optimize_memory_usage(df: pd.DataFrame, print_size: bool=True) -> pd.DataFrame:\n",
    "        numerics = ['int16', 'int32', 'int64', 'float16', 'float32', 'float64'] # Типы, которые будем проверять на оптимизацию\n",
    "        # Размер занимаемой памяти до оптимизации (в Мб)\n",
    "        before_size = df.memory_usage().sum() / 1024**2    \n",
    "        for column in df.columns:\n",
    "            column_type = df[column].dtypes\n",
    "            if column_type in numerics:\n",
    "                column_min = df[column].min()\n",
    "                column_max = df[column].max()\n",
    "                if str(column_type).startswith('int'):\n",
    "                    if column_min > np.iinfo(np.int8).min and column_max < np.iinfo(np.int8).max:\n",
    "                        df[column] = df[column].astype(np.int8)\n",
    "                    elif column_min > np.iinfo(np.int16).min and column_max < np.iinfo(np.int16).max:\n",
    "                        df[column] = df[column].astype(np.int16)\n",
    "                    elif column_min > np.iinfo(np.int32).min and column_max < np.iinfo(np.int32).max:\n",
    "                        df[column] = df[column].astype(np.int32)\n",
    "                    elif column_min > np.iinfo(np.int64).min and column_max < np.iinfo(np.int64).max:\n",
    "                        df[column] = df[column].astype(np.int64)  \n",
    "                else:\n",
    "                    if column_min > np.finfo(np.float32).min and column_max < np.finfo(np.float32).max:\n",
    "                        df[column] = df[column].astype(np.float32)\n",
    "                    else:\n",
    "                        df[column] = df[column].astype(np.float64)    \n",
    "        # Размер занимаемой памяти после оптимизации (в Мб)\n",
    "        after_size = df.memory_usage().sum() / 1024**2\n",
    "        if print_size: print('Размер использования памяти: до {:5.2f} Mb - после {:5.2f} Mb ({:.1f}%)'\n",
    "                             .format(before_size, after_size, 100 * (before_size - after_size) / before_size))\n",
    "        return df\n",
    "optimize_memory_usage(toxic_comments, print_size=True)"
   ]
  },
  {
   "cell_type": "markdown",
   "metadata": {},
   "source": [
    "**Вывод: В данных отсутствуют пропуски и дубликаты.**"
   ]
  },
  {
   "cell_type": "markdown",
   "metadata": {},
   "source": [
    "### Шаг 3. Обучение моделей."
   ]
  },
  {
   "cell_type": "code",
   "execution_count": 10,
   "metadata": {},
   "outputs": [
    {
     "name": "stderr",
     "output_type": "stream",
     "text": [
      "100%|██████████| 10000/10000 [01:52<00:00, 88.82it/s]\n"
     ]
    },
    {
     "data": {
      "text/plain": [
       "0     and it turn out that webpage have a species ID...\n",
       "1     \" \\n\\n Excellent explanation , PhD Historian ,...\n",
       "2     \" \\n\\n  Olympic Sportsfans \\n\\n Totallympics \\...\n",
       "3     \" \\n yes , well , that be what be be happen . ...\n",
       "4     Central America Group \\n\\n Blank Verse , \\n I ...\n",
       "5     \" \\n\\n  restaurant \\n\\n thank you , truly , fo...\n",
       "6     chrisnoscrub047 , please add your contribution...\n",
       "7     \" : SilkTork , I strike some comment on Fainit...\n",
       "8     this line have now be remove , I see no proble...\n",
       "9     \" \\n A.F. – in case you miss out on the random...\n",
       "10                                  be make 2 month ago\n",
       "11                            . \\n yes , fine . do that\n",
       "12                  hi John . fine with I ! good regard\n",
       "13    \" : : : : : the malinger \" \" issue \" \" be a to...\n",
       "14    taiwanese people \\n\\n Hi , there be a dispute ...\n",
       "15    \" \\n\\n  Bektashi \\n may I learn what be \" \" ra...\n",
       "16    Unprotection \\n from what I remember , protect...\n",
       "17    Umm ... I be no geologist , but ?   I be sure ...\n",
       "18    \" : : : I disagree with your fiction . since I...\n",
       "19    \" \\n\\n  I just go to the article which state \\...\n",
       "Name: lemmatized_text, dtype: object"
      ]
     },
     "execution_count": 10,
     "metadata": {},
     "output_type": "execute_result"
    }
   ],
   "source": [
    "nlp = spacy.load('en_core_web_sm')\n",
    "\n",
    "def lemmatize_text(text):\n",
    "    doc = nlp(text)\n",
    "    return \" \".join([token.lemma_ for token in doc])\n",
    "\n",
    "tqdm.pandas()\n",
    "toxic_comments['lemmatized_text'] = toxic_comments['text'].progress_apply(lemmatize_text)\n",
    "toxic_comments['lemmatized_text'].head(20)"
   ]
  },
  {
   "cell_type": "markdown",
   "metadata": {},
   "source": [
    "Модель BERT:"
   ]
  },
  {
   "cell_type": "code",
   "execution_count": 11,
   "metadata": {},
   "outputs": [
    {
     "name": "stdout",
     "output_type": "stream",
     "text": [
      "Using device: cuda\n"
     ]
    }
   ],
   "source": [
    "device = torch.device('cuda') if torch.cuda.is_available() else torch.device('cpu')\n",
    "print(f'Using device: {device}')"
   ]
  },
  {
   "cell_type": "code",
   "execution_count": 12,
   "metadata": {},
   "outputs": [],
   "source": [
    "# model_path = './bert-base-uncased'\n",
    "# tokenizer_path = './bert-base-uncased'\n",
    "\n",
    "# if os.path.exists(model_path) and os.path.exists(tokenizer_path):\n",
    "#     model = BertModel.from_pretrained(model_path)\n",
    "#     tokenizer = BertTokenizer.from_pretrained(tokenizer_path)\n",
    "# else:\n",
    "#     tokenizer = BertTokenizer.from_pretrained('bert-base-uncased')\n",
    "#     model = BertModel.from_pretrained('bert-base-uncased')\n",
    "#     model.save_pretrained(model_path)\n",
    "#     tokenizer.save_pretrained(tokenizer_path)\n",
    "\n",
    "# model_path = './distilbert-base-uncased'\n",
    "# tokenizer_path = './distilbert-base-uncased'\n",
    "\n",
    "# if os.path.exists(model_path) and os.path.exists(tokenizer_path):\n",
    "#     model = DistilBertModel.from_pretrained(model_path)\n",
    "#     tokenizer = DistilBertTokenizer.from_pretrained(tokenizer_path)\n",
    "# else:\n",
    "#     tokenizer = DistilBertTokenizer.from_pretrained('distilbert-base-uncased')\n",
    "#     model = DistilBertModel.from_pretrained('distilbert-base-uncased')\n",
    "#     model.save_pretrained(model_path)\n",
    "#     tokenizer.save_pretrained(tokenizer_path)\n",
    "\n",
    "# model_path = './albert-base-v2'\n",
    "# tokenizer_path = './albert-base-v2'\n",
    "\n",
    "# if os.path.exists(model_path) and os.path.exists(tokenizer_path):\n",
    "#     # Загрузка модели и токенизатора из локального хранилища\n",
    "#     model = AlbertModel.from_pretrained(model_path)\n",
    "#     tokenizer = AlbertTokenizer.from_pretrained(tokenizer_path)\n",
    "# else:\n",
    "#     # Загрузка модели и токенизатора из интернета и сохранение локально\n",
    "#     model = AlbertModel.from_pretrained('albert-base-v2')\n",
    "#     tokenizer = AlbertTokenizer.from_pretrained('albert-base-v2')\n",
    "#     model.save_pretrained(model_path)\n",
    "#     tokenizer.save_pretrained(tokenizer_path)\n",
    "\n",
    "# model_name = 'unitary/toxic-bert'\n",
    "\n",
    "# model_path = './toxic-bert'\n",
    "# tokenizer_path = './toxic-bert'\n",
    "\n",
    "# if os.path.exists(model_path) and os.path.exists(tokenizer_path):\n",
    "#     model = AutoModel.from_pretrained(model_path)\n",
    "#     tokenizer = AutoTokenizer.from_pretrained(tokenizer_path)\n",
    "# else:\n",
    "#     tokenizer = AutoTokenizer.from_pretrained(model_name)\n",
    "#     model = AutoModel.from_pretrained(model_name)\n",
    "#     model.save_pretrained(model_path)\n",
    "#     tokenizer.save_pretrained(tokenizer_path)"
   ]
  },
  {
   "cell_type": "code",
   "execution_count": 13,
   "metadata": {},
   "outputs": [],
   "source": [
    "dataset = Dataset.from_pandas(toxic_comments[['lemmatized_text', 'toxic']])\n",
    "dataset = dataset.rename_column('lemmatized_text', 'text')\n",
    "dataset = dataset.rename_column('toxic', 'labels')"
   ]
  },
  {
   "cell_type": "code",
   "execution_count": 14,
   "metadata": {},
   "outputs": [],
   "source": [
    "train_test_ratio = 0.8\n",
    "train_dataset, test_dataset = dataset.train_test_split(test_size=1-train_test_ratio).values()"
   ]
  },
  {
   "cell_type": "code",
   "execution_count": 15,
   "metadata": {},
   "outputs": [
    {
     "data": {
      "application/vnd.jupyter.widget-view+json": {
       "model_id": "ef5f32dba7014fe39813137949ce4640",
       "version_major": 2,
       "version_minor": 0
      },
      "text/plain": [
       "Map:   0%|          | 0/8000 [00:00<?, ? examples/s]"
      ]
     },
     "metadata": {},
     "output_type": "display_data"
    },
    {
     "data": {
      "application/vnd.jupyter.widget-view+json": {
       "model_id": "0eb79601a8f34ee48c532d59fe660ad7",
       "version_major": 2,
       "version_minor": 0
      },
      "text/plain": [
       "Map:   0%|          | 0/2000 [00:00<?, ? examples/s]"
      ]
     },
     "metadata": {},
     "output_type": "display_data"
    }
   ],
   "source": [
    "model_name = \"bert-base-uncased\"\n",
    "tokenizer = BertTokenizer.from_pretrained(model_name)\n",
    "\n",
    "def tokenize_function(examples):\n",
    "    return tokenizer(examples['text'], padding='max_length', truncation=True, max_length=128)\n",
    "\n",
    "train_dataset = train_dataset.map(tokenize_function, batched=True)\n",
    "test_dataset = test_dataset.map(tokenize_function, batched=True)\n",
    "\n",
    "train_dataset.set_format('torch', columns=['input_ids', 'attention_mask', 'labels'])\n",
    "test_dataset.set_format('torch', columns=['input_ids', 'attention_mask', 'labels'])"
   ]
  },
  {
   "cell_type": "code",
   "execution_count": 16,
   "metadata": {},
   "outputs": [
    {
     "name": "stderr",
     "output_type": "stream",
     "text": [
      "Some weights of BertForSequenceClassification were not initialized from the model checkpoint at bert-base-uncased and are newly initialized: ['classifier.bias', 'classifier.weight']\n",
      "You should probably TRAIN this model on a down-stream task to be able to use it for predictions and inference.\n"
     ]
    }
   ],
   "source": [
    "model = BertForSequenceClassification.from_pretrained(model_name, num_labels=2)"
   ]
  },
  {
   "cell_type": "code",
   "execution_count": 17,
   "metadata": {},
   "outputs": [],
   "source": [
    "training_args = TrainingArguments(\n",
    "    output_dir='./results',\n",
    "    num_train_epochs=7,\n",
    "    per_device_train_batch_size=16,\n",
    "    per_device_eval_batch_size=16,\n",
    "    warmup_steps=500,\n",
    "    weight_decay=0.01,\n",
    "    logging_dir='./logs',\n",
    "    eval_strategy=\"epoch\",\n",
    "    save_strategy=\"epoch\", \n",
    "    save_total_limit=1,\n",
    "    load_best_model_at_end=True,\n",
    "    metric_for_best_model=\"f1\"\n",
    ")\n",
    "\n",
    "\n",
    "def compute_metrics(p):\n",
    "    predictions, labels = p\n",
    "    preds = predictions.argmax(-1)\n",
    "    f1 = f1_score(labels, preds, average='weighted')\n",
    "    return {\"f1\": f1}\n",
    "\n",
    "trainer = Trainer(\n",
    "    model=model,\n",
    "    args=training_args,\n",
    "    train_dataset=train_dataset,\n",
    "    eval_dataset=test_dataset,\n",
    "    compute_metrics=compute_metrics\n",
    ")\n"
   ]
  },
  {
   "cell_type": "code",
   "execution_count": 18,
   "metadata": {},
   "outputs": [
    {
     "data": {
      "application/vnd.jupyter.widget-view+json": {
       "model_id": "a70afe684daa4382b9d4978269436b49",
       "version_major": 2,
       "version_minor": 0
      },
      "text/plain": [
       "  0%|          | 0/3500 [00:00<?, ?it/s]"
      ]
     },
     "metadata": {},
     "output_type": "display_data"
    },
    {
     "name": "stderr",
     "output_type": "stream",
     "text": [
      "c:\\Users\\vanya\\anaconda3\\envs\\practicum\\lib\\site-packages\\transformers\\models\\bert\\modeling_bert.py:435: UserWarning: 1Torch was not compiled with flash attention. (Triggered internally at C:\\actions-runner\\_work\\pytorch\\pytorch\\builder\\windows\\pytorch\\aten\\src\\ATen\\native\\transformers\\cuda\\sdp_utils.cpp:455.)\n",
      "  attn_output = torch.nn.functional.scaled_dot_product_attention(\n"
     ]
    },
    {
     "name": "stdout",
     "output_type": "stream",
     "text": [
      "{'loss': 0.2011, 'grad_norm': 7.039880752563477, 'learning_rate': 5e-05, 'epoch': 1.0}\n"
     ]
    },
    {
     "data": {
      "application/vnd.jupyter.widget-view+json": {
       "model_id": "3a553c0240a145f3b4d8ed0d5754fef2",
       "version_major": 2,
       "version_minor": 0
      },
      "text/plain": [
       "  0%|          | 0/125 [00:00<?, ?it/s]"
      ]
     },
     "metadata": {},
     "output_type": "display_data"
    },
    {
     "name": "stdout",
     "output_type": "stream",
     "text": [
      "{'eval_loss': 0.14666423201560974, 'eval_f1': 0.9552821746375296, 'eval_runtime': 21.2915, 'eval_samples_per_second': 93.934, 'eval_steps_per_second': 5.871, 'epoch': 1.0}\n",
      "{'loss': 0.1192, 'grad_norm': 0.1731484830379486, 'learning_rate': 4.166666666666667e-05, 'epoch': 2.0}\n"
     ]
    },
    {
     "data": {
      "application/vnd.jupyter.widget-view+json": {
       "model_id": "c0bdfb61d5244bce9264281ba93b9414",
       "version_major": 2,
       "version_minor": 0
      },
      "text/plain": [
       "  0%|          | 0/125 [00:00<?, ?it/s]"
      ]
     },
     "metadata": {},
     "output_type": "display_data"
    },
    {
     "name": "stdout",
     "output_type": "stream",
     "text": [
      "{'eval_loss': 0.17282739281654358, 'eval_f1': 0.9574288857457175, 'eval_runtime': 22.9268, 'eval_samples_per_second': 87.234, 'eval_steps_per_second': 5.452, 'epoch': 2.0}\n",
      "{'loss': 0.063, 'grad_norm': 17.184101104736328, 'learning_rate': 3.3333333333333335e-05, 'epoch': 3.0}\n"
     ]
    },
    {
     "data": {
      "application/vnd.jupyter.widget-view+json": {
       "model_id": "5cc24f80922d45368e21422e6080f37e",
       "version_major": 2,
       "version_minor": 0
      },
      "text/plain": [
       "  0%|          | 0/125 [00:00<?, ?it/s]"
      ]
     },
     "metadata": {},
     "output_type": "display_data"
    },
    {
     "name": "stdout",
     "output_type": "stream",
     "text": [
      "{'eval_loss': 0.17874513566493988, 'eval_f1': 0.9549927314304638, 'eval_runtime': 28.281, 'eval_samples_per_second': 70.719, 'eval_steps_per_second': 4.42, 'epoch': 3.0}\n",
      "{'loss': 0.0278, 'grad_norm': 2.6566953659057617, 'learning_rate': 2.5e-05, 'epoch': 4.0}\n"
     ]
    },
    {
     "data": {
      "application/vnd.jupyter.widget-view+json": {
       "model_id": "4787012fb75046569b25f22e2b06b284",
       "version_major": 2,
       "version_minor": 0
      },
      "text/plain": [
       "  0%|          | 0/125 [00:00<?, ?it/s]"
      ]
     },
     "metadata": {},
     "output_type": "display_data"
    },
    {
     "name": "stdout",
     "output_type": "stream",
     "text": [
      "{'eval_loss': 0.18558233976364136, 'eval_f1': 0.9625397309838425, 'eval_runtime': 22.6201, 'eval_samples_per_second': 88.417, 'eval_steps_per_second': 5.526, 'epoch': 4.0}\n",
      "{'loss': 0.0052, 'grad_norm': 0.010518546216189861, 'learning_rate': 1.6666666666666667e-05, 'epoch': 5.0}\n"
     ]
    },
    {
     "data": {
      "application/vnd.jupyter.widget-view+json": {
       "model_id": "22b2fd90610748b096cc015f979110c6",
       "version_major": 2,
       "version_minor": 0
      },
      "text/plain": [
       "  0%|          | 0/125 [00:00<?, ?it/s]"
      ]
     },
     "metadata": {},
     "output_type": "display_data"
    },
    {
     "name": "stdout",
     "output_type": "stream",
     "text": [
      "{'eval_loss': 0.2740466892719269, 'eval_f1': 0.9598778445084328, 'eval_runtime': 17.2702, 'eval_samples_per_second': 115.806, 'eval_steps_per_second': 7.238, 'epoch': 5.0}\n",
      "{'loss': 0.0034, 'grad_norm': 0.002097586402669549, 'learning_rate': 8.333333333333334e-06, 'epoch': 6.0}\n"
     ]
    },
    {
     "data": {
      "application/vnd.jupyter.widget-view+json": {
       "model_id": "570a6d2ac3b04df0ba1dc0a9360500bf",
       "version_major": 2,
       "version_minor": 0
      },
      "text/plain": [
       "  0%|          | 0/125 [00:00<?, ?it/s]"
      ]
     },
     "metadata": {},
     "output_type": "display_data"
    },
    {
     "name": "stdout",
     "output_type": "stream",
     "text": [
      "{'eval_loss': 0.27005138993263245, 'eval_f1': 0.9626784575745666, 'eval_runtime': 23.0368, 'eval_samples_per_second': 86.817, 'eval_steps_per_second': 5.426, 'epoch': 6.0}\n",
      "{'loss': 0.0001, 'grad_norm': 0.003779421094805002, 'learning_rate': 0.0, 'epoch': 7.0}\n"
     ]
    },
    {
     "data": {
      "application/vnd.jupyter.widget-view+json": {
       "model_id": "ae3709d0f6974c4e83662363bec19799",
       "version_major": 2,
       "version_minor": 0
      },
      "text/plain": [
       "  0%|          | 0/125 [00:00<?, ?it/s]"
      ]
     },
     "metadata": {},
     "output_type": "display_data"
    },
    {
     "name": "stdout",
     "output_type": "stream",
     "text": [
      "{'eval_loss': 0.27538275718688965, 'eval_f1': 0.96500589200678, 'eval_runtime': 22.8059, 'eval_samples_per_second': 87.697, 'eval_steps_per_second': 5.481, 'epoch': 7.0}\n",
      "{'train_runtime': 3039.5952, 'train_samples_per_second': 18.424, 'train_steps_per_second': 1.151, 'train_loss': 0.05997336549844061, 'epoch': 7.0}\n"
     ]
    },
    {
     "data": {
      "text/plain": [
       "TrainOutput(global_step=3500, training_loss=0.05997336549844061, metrics={'train_runtime': 3039.5952, 'train_samples_per_second': 18.424, 'train_steps_per_second': 1.151, 'total_flos': 3683554775040000.0, 'train_loss': 0.05997336549844061, 'epoch': 7.0})"
      ]
     },
     "execution_count": 18,
     "metadata": {},
     "output_type": "execute_result"
    }
   ],
   "source": [
    "trainer.train()"
   ]
  },
  {
   "cell_type": "code",
   "execution_count": 19,
   "metadata": {},
   "outputs": [
    {
     "data": {
      "application/vnd.jupyter.widget-view+json": {
       "model_id": "f3f73b38aa124f11b86ce23e985ec957",
       "version_major": 2,
       "version_minor": 0
      },
      "text/plain": [
       "  0%|          | 0/125 [00:00<?, ?it/s]"
      ]
     },
     "metadata": {},
     "output_type": "display_data"
    },
    {
     "name": "stdout",
     "output_type": "stream",
     "text": [
      "F1 Score: 0.96500589200678\n"
     ]
    }
   ],
   "source": [
    "eval_results = trainer.evaluate()\n",
    "print(f\"F1 Score: {eval_results['eval_f1']}\")"
   ]
  },
  {
   "cell_type": "markdown",
   "metadata": {},
   "source": [
    "Тестирование лучшей модели:"
   ]
  },
  {
   "cell_type": "markdown",
   "metadata": {},
   "source": [
    "### Шаг 4. Общий вывод"
   ]
  },
  {
   "cell_type": "markdown",
   "metadata": {},
   "source": [
    "**Вывод**\n",
    "\n",
    "1. **Задача данного проекта была в определении токсичных комментариев**\n",
    "\n",
    "2. **В ходе предобработки данных не потребовалось ничего изменять, данные были в порядкеТак же была применена функция оптимизации числовых данных. В ходе всех обработок, объем датасета стал 1.97 мб(изначально было 3.65 мб)**\n",
    "\n",
    "3. **Модель BertForSequenceClassification показала значение метрики f1 = 78.**\n"
   ]
  }
 ],
 "metadata": {
  "kernelspec": {
   "display_name": "practicum",
   "language": "python",
   "name": "python3"
  },
  "language_info": {
   "codemirror_mode": {
    "name": "ipython",
    "version": 3
   },
   "file_extension": ".py",
   "mimetype": "text/x-python",
   "name": "python",
   "nbconvert_exporter": "python",
   "pygments_lexer": "ipython3",
   "version": "3.9.19"
  },
  "toc": {
   "base_numbering": 1,
   "nav_menu": {},
   "number_sections": true,
   "sideBar": true,
   "skip_h1_title": true,
   "title_cell": "Table of Contents",
   "title_sidebar": "Contents",
   "toc_cell": false,
   "toc_position": {
    "height": "calc(100% - 180px)",
    "left": "10px",
    "top": "150px",
    "width": "212.391px"
   },
   "toc_section_display": true,
   "toc_window_display": true
  }
 },
 "nbformat": 4,
 "nbformat_minor": 2
}
